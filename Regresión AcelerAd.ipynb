{
 "cells": [
  {
   "cell_type": "code",
   "execution_count": 23,
   "id": "dfc24ec9",
   "metadata": {},
   "outputs": [],
   "source": [
    "import matplotlib.pyplot as plt\n",
    "plt.style.use('ggplot')\n",
    "import pandas as pd\n",
    "import numpy as np\n",
    "import statsmodels.api as sm\n",
    "import os\n",
    "import seaborn as sns\n",
    "import statsmodels.formula.api as smf"
   ]
  },
  {
   "cell_type": "code",
   "execution_count": 16,
   "id": "730f069f",
   "metadata": {},
   "outputs": [],
   "source": [
    "## Usar base\n",
    "Base_final = pd.read_excel('/Users/beresan/Desktop/DataBase.xlsx')"
   ]
  },
  {
   "cell_type": "code",
   "execution_count": 17,
   "id": "dfaf6829",
   "metadata": {},
   "outputs": [
    {
     "data": {
      "text/html": [
       "<div>\n",
       "<style scoped>\n",
       "    .dataframe tbody tr th:only-of-type {\n",
       "        vertical-align: middle;\n",
       "    }\n",
       "\n",
       "    .dataframe tbody tr th {\n",
       "        vertical-align: top;\n",
       "    }\n",
       "\n",
       "    .dataframe thead th {\n",
       "        text-align: right;\n",
       "    }\n",
       "</style>\n",
       "<table border=\"1\" class=\"dataframe\">\n",
       "  <thead>\n",
       "    <tr style=\"text-align: right;\">\n",
       "      <th></th>\n",
       "      <th>Fecha</th>\n",
       "      <th>Aplicaciones</th>\n",
       "      <th>Declinados</th>\n",
       "      <th>IGAE</th>\n",
       "      <th>Casos</th>\n",
       "      <th>WUI</th>\n",
       "    </tr>\n",
       "  </thead>\n",
       "  <tbody>\n",
       "    <tr>\n",
       "      <th>0</th>\n",
       "      <td>2021-06-01</td>\n",
       "      <td>0</td>\n",
       "      <td>0</td>\n",
       "      <td>96.112517</td>\n",
       "      <td>107140</td>\n",
       "      <td>18072.81</td>\n",
       "    </tr>\n",
       "    <tr>\n",
       "      <th>1</th>\n",
       "      <td>2021-07-01</td>\n",
       "      <td>7</td>\n",
       "      <td>3</td>\n",
       "      <td>101.581956</td>\n",
       "      <td>381685</td>\n",
       "      <td>21508.56</td>\n",
       "    </tr>\n",
       "    <tr>\n",
       "      <th>2</th>\n",
       "      <td>2021-08-01</td>\n",
       "      <td>42</td>\n",
       "      <td>4</td>\n",
       "      <td>104.122580</td>\n",
       "      <td>523237</td>\n",
       "      <td>21508.56</td>\n",
       "    </tr>\n",
       "    <tr>\n",
       "      <th>3</th>\n",
       "      <td>2021-09-01</td>\n",
       "      <td>19</td>\n",
       "      <td>6</td>\n",
       "      <td>106.617886</td>\n",
       "      <td>273635</td>\n",
       "      <td>21508.56</td>\n",
       "    </tr>\n",
       "    <tr>\n",
       "      <th>4</th>\n",
       "      <td>2021-10-01</td>\n",
       "      <td>21</td>\n",
       "      <td>7</td>\n",
       "      <td>107.546396</td>\n",
       "      <td>124840</td>\n",
       "      <td>19802.65</td>\n",
       "    </tr>\n",
       "    <tr>\n",
       "      <th>5</th>\n",
       "      <td>2021-11-01</td>\n",
       "      <td>30</td>\n",
       "      <td>15</td>\n",
       "      <td>108.115504</td>\n",
       "      <td>82488</td>\n",
       "      <td>19802.65</td>\n",
       "    </tr>\n",
       "    <tr>\n",
       "      <th>6</th>\n",
       "      <td>2021-12-01</td>\n",
       "      <td>31</td>\n",
       "      <td>16</td>\n",
       "      <td>108.219323</td>\n",
       "      <td>120515</td>\n",
       "      <td>19802.65</td>\n",
       "    </tr>\n",
       "    <tr>\n",
       "      <th>7</th>\n",
       "      <td>2022-01-01</td>\n",
       "      <td>26</td>\n",
       "      <td>7</td>\n",
       "      <td>107.912966</td>\n",
       "      <td>1349683</td>\n",
       "      <td>26455.02</td>\n",
       "    </tr>\n",
       "    <tr>\n",
       "      <th>8</th>\n",
       "      <td>2022-02-01</td>\n",
       "      <td>16</td>\n",
       "      <td>5</td>\n",
       "      <td>107.022507</td>\n",
       "      <td>288683</td>\n",
       "      <td>26455.02</td>\n",
       "    </tr>\n",
       "    <tr>\n",
       "      <th>9</th>\n",
       "      <td>2022-03-01</td>\n",
       "      <td>29</td>\n",
       "      <td>7</td>\n",
       "      <td>110.733424</td>\n",
       "      <td>48372</td>\n",
       "      <td>26455.02</td>\n",
       "    </tr>\n",
       "    <tr>\n",
       "      <th>10</th>\n",
       "      <td>2022-04-01</td>\n",
       "      <td>12</td>\n",
       "      <td>2</td>\n",
       "      <td>109.386750</td>\n",
       "      <td>16144</td>\n",
       "      <td>29343.64</td>\n",
       "    </tr>\n",
       "    <tr>\n",
       "      <th>11</th>\n",
       "      <td>2022-05-01</td>\n",
       "      <td>21</td>\n",
       "      <td>2</td>\n",
       "      <td>109.956368</td>\n",
       "      <td>36909</td>\n",
       "      <td>29343.64</td>\n",
       "    </tr>\n",
       "    <tr>\n",
       "      <th>12</th>\n",
       "      <td>2022-06-01</td>\n",
       "      <td>29</td>\n",
       "      <td>3</td>\n",
       "      <td>108.945070</td>\n",
       "      <td>312778</td>\n",
       "      <td>29343.64</td>\n",
       "    </tr>\n",
       "    <tr>\n",
       "      <th>13</th>\n",
       "      <td>2022-07-01</td>\n",
       "      <td>0</td>\n",
       "      <td>0</td>\n",
       "      <td>109.457048</td>\n",
       "      <td>547605</td>\n",
       "      <td>29343.64</td>\n",
       "    </tr>\n",
       "  </tbody>\n",
       "</table>\n",
       "</div>"
      ],
      "text/plain": [
       "        Fecha  Aplicaciones  Declinados        IGAE    Casos       WUI\n",
       "0  2021-06-01             0           0   96.112517   107140  18072.81\n",
       "1  2021-07-01             7           3  101.581956   381685  21508.56\n",
       "2  2021-08-01            42           4  104.122580   523237  21508.56\n",
       "3  2021-09-01            19           6  106.617886   273635  21508.56\n",
       "4  2021-10-01            21           7  107.546396   124840  19802.65\n",
       "5  2021-11-01            30          15  108.115504    82488  19802.65\n",
       "6  2021-12-01            31          16  108.219323   120515  19802.65\n",
       "7  2022-01-01            26           7  107.912966  1349683  26455.02\n",
       "8  2022-02-01            16           5  107.022507   288683  26455.02\n",
       "9  2022-03-01            29           7  110.733424    48372  26455.02\n",
       "10 2022-04-01            12           2  109.386750    16144  29343.64\n",
       "11 2022-05-01            21           2  109.956368    36909  29343.64\n",
       "12 2022-06-01            29           3  108.945070   312778  29343.64\n",
       "13 2022-07-01             0           0  109.457048   547605  29343.64"
      ]
     },
     "execution_count": 17,
     "metadata": {},
     "output_type": "execute_result"
    }
   ],
   "source": [
    "Base_final"
   ]
  },
  {
   "cell_type": "code",
   "execution_count": 18,
   "id": "cd38ebd0",
   "metadata": {},
   "outputs": [],
   "source": [
    "corr= Base_final.corr()"
   ]
  },
  {
   "cell_type": "code",
   "execution_count": 19,
   "id": "fc661bdc",
   "metadata": {},
   "outputs": [
    {
     "data": {
      "text/html": [
       "<div>\n",
       "<style scoped>\n",
       "    .dataframe tbody tr th:only-of-type {\n",
       "        vertical-align: middle;\n",
       "    }\n",
       "\n",
       "    .dataframe tbody tr th {\n",
       "        vertical-align: top;\n",
       "    }\n",
       "\n",
       "    .dataframe thead th {\n",
       "        text-align: right;\n",
       "    }\n",
       "</style>\n",
       "<table border=\"1\" class=\"dataframe\">\n",
       "  <thead>\n",
       "    <tr style=\"text-align: right;\">\n",
       "      <th></th>\n",
       "      <th>Aplicaciones</th>\n",
       "      <th>Declinados</th>\n",
       "      <th>IGAE</th>\n",
       "      <th>Casos</th>\n",
       "      <th>WUI</th>\n",
       "    </tr>\n",
       "  </thead>\n",
       "  <tbody>\n",
       "    <tr>\n",
       "      <th>Aplicaciones</th>\n",
       "      <td>1.000000</td>\n",
       "      <td>0.590156</td>\n",
       "      <td>0.389146</td>\n",
       "      <td>0.083735</td>\n",
       "      <td>-0.093033</td>\n",
       "    </tr>\n",
       "    <tr>\n",
       "      <th>Declinados</th>\n",
       "      <td>0.590156</td>\n",
       "      <td>1.000000</td>\n",
       "      <td>0.290378</td>\n",
       "      <td>-0.089884</td>\n",
       "      <td>-0.454097</td>\n",
       "    </tr>\n",
       "    <tr>\n",
       "      <th>IGAE</th>\n",
       "      <td>0.389146</td>\n",
       "      <td>0.290378</td>\n",
       "      <td>1.000000</td>\n",
       "      <td>-0.018847</td>\n",
       "      <td>0.635391</td>\n",
       "    </tr>\n",
       "    <tr>\n",
       "      <th>Casos</th>\n",
       "      <td>0.083735</td>\n",
       "      <td>-0.089884</td>\n",
       "      <td>-0.018847</td>\n",
       "      <td>1.000000</td>\n",
       "      <td>0.167311</td>\n",
       "    </tr>\n",
       "    <tr>\n",
       "      <th>WUI</th>\n",
       "      <td>-0.093033</td>\n",
       "      <td>-0.454097</td>\n",
       "      <td>0.635391</td>\n",
       "      <td>0.167311</td>\n",
       "      <td>1.000000</td>\n",
       "    </tr>\n",
       "  </tbody>\n",
       "</table>\n",
       "</div>"
      ],
      "text/plain": [
       "              Aplicaciones  Declinados      IGAE     Casos       WUI\n",
       "Aplicaciones      1.000000    0.590156  0.389146  0.083735 -0.093033\n",
       "Declinados        0.590156    1.000000  0.290378 -0.089884 -0.454097\n",
       "IGAE              0.389146    0.290378  1.000000 -0.018847  0.635391\n",
       "Casos             0.083735   -0.089884 -0.018847  1.000000  0.167311\n",
       "WUI              -0.093033   -0.454097  0.635391  0.167311  1.000000"
      ]
     },
     "execution_count": 19,
     "metadata": {},
     "output_type": "execute_result"
    }
   ],
   "source": [
    "corr"
   ]
  },
  {
   "cell_type": "code",
   "execution_count": 20,
   "id": "66a7f3ef",
   "metadata": {},
   "outputs": [
    {
     "data": {
      "text/plain": [
       "<AxesSubplot:>"
      ]
     },
     "execution_count": 20,
     "metadata": {},
     "output_type": "execute_result"
    },
    {
     "data": {
      "image/png": "[encoded data removed]",
      "text/plain": [
       "<Figure size 432x288 with 2 Axes>"
      ]
     },
     "metadata": {},
     "output_type": "display_data"
    }
   ],
   "source": [
    "sns.heatmap(corr,annot=True,xticklabels=corr.columns.values,yticklabels=corr.columns.values, cmap='RdYlGn')"
   ]
  },
  {
   "cell_type": "code",
   "execution_count": 22,
   "id": "d078ce8a",
   "metadata": {},
   "outputs": [
    {
     "data": {
      "text/plain": [
       "<seaborn.axisgrid.PairGrid at 0x7fa9805d8cd0>"
      ]
     },
     "execution_count": 22,
     "metadata": {},
     "output_type": "execute_result"
    },
    {
     "data": {
      "image/png": "[encoded data removed]",
      "text/plain": [
       "<Figure size 900x900 with 30 Axes>"
      ]
     },
     "metadata": {},
     "output_type": "display_data"
    }
   ],
   "source": [
    "sns.pairplot(Base_final)"
   ]
  },
  {
   "cell_type": "code",
   "execution_count": 28,
   "id": "1e842031",
   "metadata": {},
   "outputs": [],
   "source": [
    "mod = smf.ols('Aplicaciones ~ Casos + WUI', data=Base_final).fit() "
   ]
  },
  {
   "cell_type": "code",
   "execution_count": 29,
   "id": "4a7d85e8",
   "metadata": {},
   "outputs": [
    {
     "name": "stdout",
     "output_type": "stream",
     "text": [
      "                            OLS Regression Results                            \n",
      "==============================================================================\n",
      "Dep. Variable:           Aplicaciones   R-squared:                       0.019\n",
      "Model:                            OLS   Adj. R-squared:                 -0.160\n",
      "Method:                 Least Squares   F-statistic:                    0.1054\n",
      "Date:                Mon, 15 Aug 2022   Prob (F-statistic):              0.901\n",
      "Time:                        00:36:03   Log-Likelihood:                -54.304\n",
      "No. Observations:                  14   AIC:                             114.6\n",
      "Df Residuals:                      11   BIC:                             116.5\n",
      "Df Model:                           2                                         \n",
      "Covariance Type:            nonrobust                                         \n",
      "==============================================================================\n",
      "                 coef    std err          t      P>|t|      [0.025      0.975]\n",
      "------------------------------------------------------------------------------\n",
      "Intercept     26.7630     20.993      1.275      0.229     -19.443      72.969\n",
      "Casos       3.592e-06   1.07e-05      0.337      0.742   -1.98e-05     2.7e-05\n",
      "WUI           -0.0003      0.001     -0.364      0.723      -0.002       0.002\n",
      "==============================================================================\n",
      "Omnibus:                        0.568   Durbin-Watson:                   1.760\n",
      "Prob(Omnibus):                  0.753   Jarque-Bera (JB):                0.595\n",
      "Skew:                          -0.364   Prob(JB):                        0.743\n",
      "Kurtosis:                       2.301   Cond. No.                     2.69e+06\n",
      "==============================================================================\n",
      "\n",
      "Notes:\n",
      "[1] Standard Errors assume that the covariance matrix of the errors is correctly specified.\n",
      "[2] The condition number is large, 2.69e+06. This might indicate that there are\n",
      "strong multicollinearity or other numerical problems.\n"
     ]
    },
    {
     "name": "stderr",
     "output_type": "stream",
     "text": [
      "/Users/beresan/opt/anaconda3/lib/python3.9/site-packages/scipy/stats/stats.py:1541: UserWarning: kurtosistest only valid for n>=20 ... continuing anyway, n=14\n",
      "  warnings.warn(\"kurtosistest only valid for n>=20 ... continuing \"\n"
     ]
    }
   ],
   "source": [
    "print(mod.summary())"
   ]
  },
  {
   "cell_type": "markdown",
   "id": "526b3c69",
   "metadata": {},
   "source": [
    "# Comentarios regresión 0: Aplicaciones = 26.7630 + 3.592e-06*Casos -0.0003*WUI \n",
    "#R-squaured: No está cerca de 1, el modelo no se ajusta. En términos porcentuales, 0.019 significaría que nuestro modelo explica el 1.9% del cambio en nuestra variable \"Aplicaciones\". \n",
    "#Adj. R-squared: Una variable no es relevante para el modelo. Se debe omitir.\n",
    "#Revisando las pruebas t, se rechaza la hipotesis nula de la variable WUI, lo cuál es irrelevante para la regresión por lo que se debe desechar.\n",
    "#El valor p de 0.742 para los casos está diciendo que hay un 74.2% de posibilidades de que la variable casos no afecte a la variable dependiente, Aplicaciones, y que nuestros resultados se produzcan por azar. \n",
    "# Además la variable casos por el P value tan alto es una variable no significativa por lo que igual se puede desechar. \n",
    "#F-statistic y p-value: No se muestra mucha linealidad con las variables. \n",
    "# Conclusión: El modelo no es significativo.                                                                                                              "
   ]
  },
  {
   "cell_type": "code",
   "execution_count": 32,
   "id": "f2a1c723",
   "metadata": {},
   "outputs": [],
   "source": [
    "mod1 = smf.ols('Aplicaciones ~ Casos + IGAE', data=Base_final).fit() "
   ]
  },
  {
   "cell_type": "code",
   "execution_count": 33,
   "id": "27b90193",
   "metadata": {},
   "outputs": [],
   "source": [
    "mod2 = smf.ols('Declinados ~ Casos + WUI', data=Base_final).fit() "
   ]
  },
  {
   "cell_type": "code",
   "execution_count": 34,
   "id": "8004c5ab",
   "metadata": {},
   "outputs": [],
   "source": [
    "mod3 = smf.ols('Declinados ~ Casos + IGAE', data=Base_final).fit() "
   ]
  },
  {
   "cell_type": "code",
   "execution_count": 36,
   "id": "a51ef103",
   "metadata": {},
   "outputs": [
    {
     "name": "stdout",
     "output_type": "stream",
     "text": [
      "                            OLS Regression Results                            \n",
      "==============================================================================\n",
      "Dep. Variable:           Aplicaciones   R-squared:                       0.160\n",
      "Model:                            OLS   Adj. R-squared:                  0.007\n",
      "Method:                 Least Squares   F-statistic:                     1.046\n",
      "Date:                Mon, 15 Aug 2022   Prob (F-statistic):              0.384\n",
      "Time:                        00:38:59   Log-Likelihood:                -53.218\n",
      "No. Observations:                  14   AIC:                             112.4\n",
      "Df Residuals:                      11   BIC:                             114.4\n",
      "Df Model:                           2                                         \n",
      "Covariance Type:            nonrobust                                         \n",
      "==============================================================================\n",
      "                 coef    std err          t      P>|t|      [0.025      0.975]\n",
      "------------------------------------------------------------------------------\n",
      "Intercept   -111.9422     92.943     -1.204      0.254    -316.508      92.624\n",
      "Casos       3.203e-06   9.72e-06      0.330      0.748   -1.82e-05    2.46e-05\n",
      "IGAE           1.2280      0.868      1.414      0.185      -0.684       3.139\n",
      "==============================================================================\n",
      "Omnibus:                        2.127   Durbin-Watson:                   1.937\n",
      "Prob(Omnibus):                  0.345   Jarque-Bera (JB):                0.377\n",
      "Skew:                           0.025   Prob(JB):                        0.828\n",
      "Kurtosis:                       3.803   Cond. No.                     1.28e+07\n",
      "==============================================================================\n",
      "\n",
      "Notes:\n",
      "[1] Standard Errors assume that the covariance matrix of the errors is correctly specified.\n",
      "[2] The condition number is large, 1.28e+07. This might indicate that there are\n",
      "strong multicollinearity or other numerical problems.\n"
     ]
    },
    {
     "name": "stderr",
     "output_type": "stream",
     "text": [
      "/Users/beresan/opt/anaconda3/lib/python3.9/site-packages/scipy/stats/stats.py:1541: UserWarning: kurtosistest only valid for n>=20 ... continuing anyway, n=14\n",
      "  warnings.warn(\"kurtosistest only valid for n>=20 ... continuing \"\n"
     ]
    }
   ],
   "source": [
    "print(mod1.summary())"
   ]
  },
  {
   "cell_type": "markdown",
   "id": "7f4335fd",
   "metadata": {},
   "source": [
    "# Comentarios regresión 1: Aplicaciones = -111.9422 + 3.203e-06*Casos +1.2280*IGAE \n",
    "#R-squaured: No está cerca de 1, el modelo no se ajusta. En términos porcentuales, 0.160 significaría que nuestro modelo explica el 16% del cambio en nuestra variable \"Aplicaciones\". \n",
    "#Revisando las pruebas t, se rechaza la hipotesis nula de la variable Casos, lo cuál es irrelevante para la regresión por lo que se debe desechar.\n",
    "#El valor p de 0.748 para los casos está diciendo que hay un 74.8% de posibilidades de que la variable casos no afecte a la variable dependiente, Aplicaciones, y que nuestros resultados se produzcan por azar. \n",
    "# La variable IGAE tiene un P value más pequeño, por lo que resulta ser más significativa. Es decir es relevante. \n",
    "#F-statistic y p-value: Se muestra una buena cantidad de la relación lineal entre la variable dependiente y las independientes.\n",
    "# Conclusión: La variable significativa solo es IGAE.       "
   ]
  },
  {
   "cell_type": "code",
   "execution_count": 37,
   "id": "6017b7d3",
   "metadata": {},
   "outputs": [
    {
     "name": "stdout",
     "output_type": "stream",
     "text": [
      "                            OLS Regression Results                            \n",
      "==============================================================================\n",
      "Dep. Variable:             Declinados   R-squared:                       0.206\n",
      "Model:                            OLS   Adj. R-squared:                  0.062\n",
      "Method:                 Least Squares   F-statistic:                     1.430\n",
      "Date:                Mon, 15 Aug 2022   Prob (F-statistic):              0.280\n",
      "Time:                        00:39:07   Log-Likelihood:                -39.873\n",
      "No. Observations:                  14   AIC:                             85.75\n",
      "Df Residuals:                      11   BIC:                             87.66\n",
      "Df Model:                           2                                         \n",
      "Covariance Type:            nonrobust                                         \n",
      "==============================================================================\n",
      "                 coef    std err          t      P>|t|      [0.025      0.975]\n",
      "------------------------------------------------------------------------------\n",
      "Intercept     17.9737      7.489      2.400      0.035       1.491      34.457\n",
      "Casos      -1.995e-07    3.8e-06     -0.053      0.959   -8.56e-06    8.16e-06\n",
      "WUI           -0.0005      0.000     -1.658      0.126      -0.001       0.000\n",
      "==============================================================================\n",
      "Omnibus:                        0.926   Durbin-Watson:                   0.625\n",
      "Prob(Omnibus):                  0.629   Jarque-Bera (JB):                0.111\n",
      "Skew:                           0.205   Prob(JB):                        0.946\n",
      "Kurtosis:                       3.145   Cond. No.                     2.69e+06\n",
      "==============================================================================\n",
      "\n",
      "Notes:\n",
      "[1] Standard Errors assume that the covariance matrix of the errors is correctly specified.\n",
      "[2] The condition number is large, 2.69e+06. This might indicate that there are\n",
      "strong multicollinearity or other numerical problems.\n"
     ]
    },
    {
     "name": "stderr",
     "output_type": "stream",
     "text": [
      "/Users/beresan/opt/anaconda3/lib/python3.9/site-packages/scipy/stats/stats.py:1541: UserWarning: kurtosistest only valid for n>=20 ... continuing anyway, n=14\n",
      "  warnings.warn(\"kurtosistest only valid for n>=20 ... continuing \"\n"
     ]
    }
   ],
   "source": [
    "print(mod2.summary())"
   ]
  },
  {
   "cell_type": "markdown",
   "id": "68e6526b",
   "metadata": {},
   "source": [
    "# Comentarios regresión 1: Declinados = 17.9737 -1.995e-07 *Casos -0.0005*WUI\n",
    "#R-squaured: No está cerca de 1, el modelo no se ajusta. En términos porcentuales, 0.206 significaría que nuestro modelo explica el 20.6% del cambio en nuestra variable \"Declinados\". \n",
    "#Revisando las pruebas t, se rechaza la hipotesis nula de la variable Casos, lo cuál es irrelevante para la regresión por lo que se debe desechar.\n",
    "#El valor p de 0.959 para los casos está diciendo que hay un 95.9% de posibilidades de que la variable casos no afecte a la variable dependiente, Decliandos, y que nuestros resultados se produzcan por azar. \n",
    "# La variable WUI tiene un P value más pequeño, por lo que resulta ser más significativa. Es decir es relevante. \n",
    "#F-statistic y p-value: Se muestra una buena cantidad de la relación lineal entre la variable dependiente y las independientes.\n",
    "# Conclusión: La variable significativa solo es WUI.   "
   ]
  },
  {
   "cell_type": "code",
   "execution_count": 38,
   "id": "878685d2",
   "metadata": {},
   "outputs": [
    {
     "name": "stdout",
     "output_type": "stream",
     "text": [
      "                            OLS Regression Results                            \n",
      "==============================================================================\n",
      "Dep. Variable:             Declinados   R-squared:                       0.091\n",
      "Model:                            OLS   Adj. R-squared:                 -0.074\n",
      "Method:                 Least Squares   F-statistic:                    0.5536\n",
      "Date:                Mon, 15 Aug 2022   Prob (F-statistic):              0.590\n",
      "Time:                        00:39:18   Log-Likelihood:                -40.820\n",
      "No. Observations:                  14   AIC:                             87.64\n",
      "Df Residuals:                      11   BIC:                             89.56\n",
      "Df Model:                           2                                         \n",
      "Covariance Type:            nonrobust                                         \n",
      "==============================================================================\n",
      "                 coef    std err          t      P>|t|      [0.025      0.975]\n",
      "------------------------------------------------------------------------------\n",
      "Intercept    -32.5943     38.336     -0.850      0.413    -116.970      51.782\n",
      "Casos      -1.178e-06   4.01e-06     -0.294      0.774      -1e-05    7.65e-06\n",
      "IGAE           0.3599      0.358      1.005      0.337      -0.429       1.148\n",
      "==============================================================================\n",
      "Omnibus:                        3.772   Durbin-Watson:                   0.573\n",
      "Prob(Omnibus):                  0.152   Jarque-Bera (JB):                1.932\n",
      "Skew:                           0.904   Prob(JB):                        0.381\n",
      "Kurtosis:                       3.198   Cond. No.                     1.28e+07\n",
      "==============================================================================\n",
      "\n",
      "Notes:\n",
      "[1] Standard Errors assume that the covariance matrix of the errors is correctly specified.\n",
      "[2] The condition number is large, 1.28e+07. This might indicate that there are\n",
      "strong multicollinearity or other numerical problems.\n"
     ]
    },
    {
     "name": "stderr",
     "output_type": "stream",
     "text": [
      "/Users/beresan/opt/anaconda3/lib/python3.9/site-packages/scipy/stats/stats.py:1541: UserWarning: kurtosistest only valid for n>=20 ... continuing anyway, n=14\n",
      "  warnings.warn(\"kurtosistest only valid for n>=20 ... continuing \"\n"
     ]
    }
   ],
   "source": [
    "print(mod3.summary())"
   ]
  },
  {
   "cell_type": "markdown",
   "id": "27e93be0",
   "metadata": {},
   "source": [
    "# Comentarios regresión 1: Declinados = -32.5943 -1.178e-06 *Casos +0.3599*IGAE\n",
    "#R-squaured: No está cerca de 1, el modelo no se ajusta. En términos porcentuales, 0.091 significaría que nuestro modelo explica el 9.1% del cambio en nuestra variable \"Declinados\". \n",
    "#Revisando las pruebas t, se rechaza la hipotesis nula de la variable Casos, lo cuál es irrelevante para la regresión por lo que se debe desechar.\n",
    "#El valor p de 0.774 para los casos está diciendo que hay un 77.4% de posibilidades de que la variable casos no afecte a la variable dependiente, Decliandos, y que nuestros resultados se produzcan por azar. \n",
    "# La variable IGAE tiene un P value más pequeño, por lo que resulta ser más significativa. Es decir es relevante. \n",
    "#F-statistic y p-value: No hay una buena relación lineal entre la variable dependiente y las independientes.\n",
    "# Conclusión: La variable significativa solo es IGAE.  "
   ]
  },
  {
   "cell_type": "code",
   "execution_count": null,
   "id": "23805b9f",
   "metadata": {},
   "outputs": [],
   "source": []
  }
 ],
 "metadata": {
  "kernelspec": {
   "display_name": "Python 3 (ipykernel)",
   "language": "python",
   "name": "python3"
  },
  "language_info": {
   "codemirror_mode": {
    "name": "ipython",
    "version": 3
   },
   "file_extension": ".py",
   "mimetype": "text/x-python",
   "name": "python",
   "nbconvert_exporter": "python",
   "pygments_lexer": "ipython3",
   "version": "3.9.12"
  }
 },
 "nbformat": 4,
 "nbformat_minor": 5
}
