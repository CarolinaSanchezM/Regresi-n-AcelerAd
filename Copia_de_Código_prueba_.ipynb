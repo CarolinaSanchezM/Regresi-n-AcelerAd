{
  "cells": [
    {
      "cell_type": "markdown",
      "metadata": {
        "id": "view-in-github",
        "colab_type": "text"
      },
      "source": [
        "<a href=\"https://colab.research.google.com/github/CarolinaSanchezM/Regresi-n-AcelerAd/blob/main/Copia_de_C%C3%B3digo_prueba_.ipynb\" target=\"_parent\"><img src=\"https://colab.research.google.com/assets/colab-badge.svg\" alt=\"Open In Colab\"/></a>"
      ]
    },
    {
      "cell_type": "markdown",
      "id": "5a4521ec-d5f5-4ede-ad83-14367ca31a84",
      "metadata": {
        "id": "5a4521ec-d5f5-4ede-ad83-14367ca31a84"
      },
      "source": [
        "## Código para limpiar la base de datos y unir Inventario + Ventas"
      ]
    },
    {
      "cell_type": "markdown",
      "id": "0f62c0d2-3943-4c3b-b5e5-93c79acc5ab1",
      "metadata": {
        "id": "0f62c0d2-3943-4c3b-b5e5-93c79acc5ab1"
      },
      "source": [
        "### Pasos manuales antes de ingresar tu archivo:\n",
        "#### 1) Cargar un solo archivo de Excel con dos hojas llamadas 'Ventas' e 'Inventario':\n",
        "##### Asegúrate de que el archivo de Excel tenga exactamente dos hojas con los nombres 'Ventas' e 'Inventario'.\n",
        "##### Los nombres de las hojas deben comenzar con una letra mayúscula y coincidir exactamente con Ventas e Inventario.\n"
      ]
    },
    {
      "cell_type": "markdown",
      "id": "79b599da-dc13-46b5-8f54-c6dbce808ff5",
      "metadata": {
        "id": "79b599da-dc13-46b5-8f54-c6dbce808ff5"
      },
      "source": [
        "#### 2)Modificar la hoja 'Ventas':\n",
        "##### Eliminar la segunda columna 'Denominación':\n",
        "###### Si hay dos columnas llamadas 'Denominación', elimina la segunda.\n",
        "###### Ejemplo: Si tienes Denominación: AGROTANQUE PE EUREKA NEGRO 5,000 L ND y Denominación: CISTERNAS, elimina la columna con Denominación: CISTERNAS.\n",
        "##### Renombrar la columna 'Total KG' a 'KG':\n",
        "###### Encuentra la columna llamada 'Total KG' y renómbrala a 'KG'.\n",
        "##### En la columna 'Familia' borrar los #N/A, dejar las celdas vacías."
      ]
    },
    {
      "cell_type": "markdown",
      "id": "be33c59c-e21f-40fa-ae37-9a75c25b9421",
      "metadata": {
        "id": "be33c59c-e21f-40fa-ae37-9a75c25b9421"
      },
      "source": [
        "#### 3)Modificar la hoja 'Inventario':\n",
        "##### Renombrar la columna 'texto breve de material' a 'Denominación':\n",
        "###### Encuentra la columna llamada texto breve de material y renómbrala a Denominación.\n",
        "##### Renombrar la columna 'Valor Total Libre + Calidad' a 'Total':\n",
        "###### Encuentra la columna llamada Valor Total Libre + Calidad y renómbrala a Total."
      ]
    },
    {
      "cell_type": "markdown",
      "id": "1b51f8db-b4d0-426d-ae2f-4686304305ee",
      "metadata": {
        "id": "1b51f8db-b4d0-426d-ae2f-4686304305ee"
      },
      "source": [
        "### Después de realizar estas modificaciones manuales, puedes usar el siguiente código para procesar los datos:"
      ]
    },
    {
      "cell_type": "markdown",
      "id": "beb9ea1a-9d27-4bd5-9275-21facb276f86",
      "metadata": {
        "id": "beb9ea1a-9d27-4bd5-9275-21facb276f86"
      },
      "source": [
        "\n",
        "\n",
        "#### 1. Instalar la librería"
      ]
    },
    {
      "cell_type": "code",
      "execution_count": null,
      "id": "d38eff68-51f4-4392-be8a-1aba2922ccae",
      "metadata": {
        "colab": {
          "base_uri": "https://localhost:8080/"
        },
        "id": "d38eff68-51f4-4392-be8a-1aba2922ccae",
        "outputId": "5b311573-2260-417d-d85b-967910de7f7c"
      },
      "outputs": [
        {
          "output_type": "stream",
          "name": "stdout",
          "text": [
            "Requirement already satisfied: pandas in /usr/local/lib/python3.10/dist-packages (2.0.3)\n",
            "Requirement already satisfied: numpy in /usr/local/lib/python3.10/dist-packages (1.25.2)\n",
            "Requirement already satisfied: python-dateutil>=2.8.2 in /usr/local/lib/python3.10/dist-packages (from pandas) (2.8.2)\n",
            "Requirement already satisfied: pytz>=2020.1 in /usr/local/lib/python3.10/dist-packages (from pandas) (2023.4)\n",
            "Requirement already satisfied: tzdata>=2022.1 in /usr/local/lib/python3.10/dist-packages (from pandas) (2024.1)\n",
            "Requirement already satisfied: six>=1.5 in /usr/local/lib/python3.10/dist-packages (from python-dateutil>=2.8.2->pandas) (1.16.0)\n"
          ]
        }
      ],
      "source": [
        "pip install pandas numpy"
      ]
    },
    {
      "cell_type": "markdown",
      "id": "2399a3db-2842-4493-9b18-d0be80008003",
      "metadata": {
        "id": "2399a3db-2842-4493-9b18-d0be80008003"
      },
      "source": [
        "#### 2. Importar la librería"
      ]
    },
    {
      "cell_type": "code",
      "execution_count": 2,
      "id": "97ebc183-39fc-4e33-820e-4df519b28410",
      "metadata": {
        "id": "97ebc183-39fc-4e33-820e-4df519b28410"
      },
      "outputs": [],
      "source": [
        "import pandas as pd\n",
        "from google.colab import files"
      ]
    },
    {
      "cell_type": "markdown",
      "id": "a1d1b0ed-deea-4099-9828-16a819dd5ed8",
      "metadata": {
        "id": "a1d1b0ed-deea-4099-9828-16a819dd5ed8"
      },
      "source": [
        "#### 3.Subir el archivo de excel\n",
        "##### Aparece una leyenda abajo donde pondrás la ruta del archivo, pasos para copiar la ruta:\n",
        "\n",
        "1.   Subir el archivo a google colab, de lado izquiero aparecen 5 iconos. En el icono de carpeta deberás subir el archivo de excel.\n",
        "2. Click derecho al archivo que se encuentra en \"Archivos\" > \"Copiar la ruta de acceso\".\n",
        "3. Pegar la ruta de acceso en la leyenda que te solicito.\n",
        "\n"
      ]
    },
    {
      "cell_type": "code",
      "execution_count": 3,
      "id": "3f65244e-a468-4695-9bc3-bae9f7cffbb8",
      "metadata": {
        "colab": {
          "base_uri": "https://localhost:8080/"
        },
        "id": "3f65244e-a468-4695-9bc3-bae9f7cffbb8",
        "outputId": "e2e0eced-854a-41ce-8737-cb05aac1ed0e"
      },
      "outputs": [
        {
          "output_type": "stream",
          "name": "stdout",
          "text": [
            "Ingrese la ruta completa del archivo de Excel (por ejemplo, 'C:/ruta/al/archivo.xlsx'): /content/Base.xlsx\n",
            "Archivo cargado exitosamente.\n"
          ]
        }
      ],
      "source": [
        "\n",
        "# Cargar el archivo de Excel manualmente\n",
        "file_path = input(\"Ingrese la ruta completa del archivo de Excel (por ejemplo, 'C:/ruta/al/archivo.xlsx'): \")\n",
        "\n",
        "try:\n",
        "    ventas_df = pd.read_excel(file_path, sheet_name='Ventas')\n",
        "    inventario_df = pd.read_excel(file_path, sheet_name='Inventario')\n",
        "    print(\"Archivo cargado exitosamente.\")\n",
        "except Exception as e:\n",
        "    print(f\"Error al leer el archivo de Excel: {e}\")\n"
      ]
    },
    {
      "cell_type": "markdown",
      "id": "cccffef6-2d84-4929-be33-21af7a3a7c46",
      "metadata": {
        "id": "cccffef6-2d84-4929-be33-21af7a3a7c46"
      },
      "source": [
        "#### 4.Procesamiento de los datos\n",
        "##### Aparece una leyenda donde solicitará el mes y año de interés. Posteriormente pondrás el nombre del archivo de salida (Sigue los ejemplos)"
      ]
    },
    {
      "cell_type": "code",
      "execution_count": 4,
      "id": "57d31bff-51e1-417d-b41a-065f885d914e",
      "metadata": {
        "colab": {
          "base_uri": "https://localhost:8080/",
          "height": 86
        },
        "id": "57d31bff-51e1-417d-b41a-065f885d914e",
        "outputId": "f370965b-a406-438d-c87b-c0f4d67a3c49"
      },
      "outputs": [
        {
          "output_type": "stream",
          "name": "stdout",
          "text": [
            "Ingrese los meses que desea filtrar, separados por comas (por ejemplo, 'abril,mayo'): enero,febrero,marzo\n",
            "Ingrese los años que desea filtrar, separados por comas (por ejemplo, '2023,2024'): 2023,2024\n",
            "Ingrese el nombre del archivo de salida (por ejemplo, 'resultado.xlsx'): base_finalfinal\n",
            "Archivo guardado en base_finalfinal.xlsx\n"
          ]
        },
        {
          "output_type": "display_data",
          "data": {
            "text/plain": [
              "<IPython.core.display.Javascript object>"
            ],
            "application/javascript": [
              "\n",
              "    async function download(id, filename, size) {\n",
              "      if (!google.colab.kernel.accessAllowed) {\n",
              "        return;\n",
              "      }\n",
              "      const div = document.createElement('div');\n",
              "      const label = document.createElement('label');\n",
              "      label.textContent = `Downloading \"${filename}\": `;\n",
              "      div.appendChild(label);\n",
              "      const progress = document.createElement('progress');\n",
              "      progress.max = size;\n",
              "      div.appendChild(progress);\n",
              "      document.body.appendChild(div);\n",
              "\n",
              "      const buffers = [];\n",
              "      let downloaded = 0;\n",
              "\n",
              "      const channel = await google.colab.kernel.comms.open(id);\n",
              "      // Send a message to notify the kernel that we're ready.\n",
              "      channel.send({})\n",
              "\n",
              "      for await (const message of channel.messages) {\n",
              "        // Send a message to notify the kernel that we're ready.\n",
              "        channel.send({})\n",
              "        if (message.buffers) {\n",
              "          for (const buffer of message.buffers) {\n",
              "            buffers.push(buffer);\n",
              "            downloaded += buffer.byteLength;\n",
              "            progress.value = downloaded;\n",
              "          }\n",
              "        }\n",
              "      }\n",
              "      const blob = new Blob(buffers, {type: 'application/binary'});\n",
              "      const a = document.createElement('a');\n",
              "      a.href = window.URL.createObjectURL(blob);\n",
              "      a.download = filename;\n",
              "      div.appendChild(a);\n",
              "      a.click();\n",
              "      div.remove();\n",
              "    }\n",
              "  "
            ]
          },
          "metadata": {}
        },
        {
          "output_type": "display_data",
          "data": {
            "text/plain": [
              "<IPython.core.display.Javascript object>"
            ],
            "application/javascript": [
              "download(\"download_bdd09a5e-8dc6-479e-a61f-6719d86c6764\", \"base_finalfinal.xlsx\", 137006)"
            ]
          },
          "metadata": {}
        }
      ],
      "source": [
        "# Función para limpiar y sumar ventas\n",
        "def limpiar_y_sumar_ventas(ventas_df):\n",
        "    ventas_limpias = ventas_df[['Mes', 'Familia', 'Año', 'Centro', 'Denominación', 'Material', 'KG']]\n",
        "    ventas_con_familia = ventas_limpias[ventas_limpias['Familia'].notna()]\n",
        "    ventas_sin_familia = ventas_limpias[ventas_limpias['Familia'].isna()]\n",
        "    ventas_agrupadas_con_familia = ventas_con_familia.groupby(\n",
        "        ['Mes', 'Familia', 'Año', 'Centro', 'Denominación', 'Material'], as_index=False).agg({'KG': 'sum'})\n",
        "    ventas_agrupadas_sin_familia = ventas_sin_familia.groupby(\n",
        "        ['Mes', 'Año', 'Centro', 'Denominación', 'Material'], as_index=False).agg({'KG': 'sum'})\n",
        "    ventas_agrupadas_sin_familia['Familia'] = 'Sin Familia'\n",
        "    ventas_agrupadas = pd.concat([ventas_agrupadas_con_familia, ventas_agrupadas_sin_familia], ignore_index=True)\n",
        "    ventas_agrupadas = ventas_agrupadas.rename(columns={'KG': 'Total_KG'})\n",
        "    return ventas_agrupadas\n",
        "\n",
        "# Función para unir inventario con ventas\n",
        "def unir_inventario_ventas(ventas_df, inventario_df):\n",
        "    inventario_agrupado = inventario_df.groupby(\n",
        "        ['Centro', 'Denominación', 'Material', 'Almacén'], as_index=False).agg({'Total': 'sum'})\n",
        "    ventas_df['ALPT'] = 0\n",
        "    ventas_df['ALPP'] = 0\n",
        "    for idx, row in inventario_agrupado.iterrows():\n",
        "        mask = (\n",
        "            (ventas_df['Centro'] == row['Centro']) &\n",
        "            (ventas_df['Denominación'] == row['Denominación']) &\n",
        "            (ventas_df['Material'] == row['Material'])\n",
        "        )\n",
        "        if row['Almacén'] == 'ALPT':\n",
        "            ventas_df.loc[mask, 'ALPT'] += row['Total']\n",
        "        elif row['Almacén'] == 'ALPP':\n",
        "            ventas_df.loc[mask, 'ALPP'] += row['Total']\n",
        "    return ventas_df\n",
        "\n",
        "# Función para aplicar filtros por múltiples meses y años\n",
        "def aplicar_filtro_meses_anos(ventas_df, meses, anos):\n",
        "    return ventas_df[(ventas_df['Mes'].isin(meses)) & (ventas_df['Año'].isin(anos))]\n",
        "\n",
        "# Limpiar y sumar ventas\n",
        "ventas_agrupadas = limpiar_y_sumar_ventas(ventas_df)\n",
        "ventas_final = unir_inventario_ventas(ventas_agrupadas, inventario_df)\n",
        "\n",
        "# Solicitar al usuario que ingrese los meses y años para filtrar\n",
        "meses_filtrados = input(\"Ingrese los meses que desea filtrar, separados por comas (por ejemplo, 'abril,mayo'): \").split(',')\n",
        "anos_filtrados = list(map(int, input(\"Ingrese los años que desea filtrar, separados por comas (por ejemplo, '2023,2024'): \").split(',')))\n",
        "\n",
        "# Aplicar el filtro por meses y años\n",
        "ventas_filtradas = aplicar_filtro_meses_anos(ventas_final, meses_filtrados, anos_filtrados)\n",
        "\n",
        "# Solicitar al usuario el nombre del archivo de salida\n",
        "nombre_archivo_salida = input(\"Ingrese el nombre del archivo de salida (por ejemplo, 'resultado.xlsx'): \")\n",
        "\n",
        "# Verificar si el nombre del archivo de salida tiene la extensión correcta\n",
        "if not nombre_archivo_salida.endswith('.xlsx'):\n",
        "    nombre_archivo_salida += '.xlsx'\n",
        "\n",
        "# Exportar el resultado a un archivo Excel\n",
        "ventas_filtradas.to_excel(nombre_archivo_salida, index=False)\n",
        "print(f'Archivo guardado en {nombre_archivo_salida}')\n",
        "\n",
        "# Descargar el archivo creado\n",
        "files.download(nombre_archivo_salida)\n"
      ]
    },
    {
      "cell_type": "markdown",
      "id": "420f87a9-2f43-4900-bae1-dfaa6625dcfb",
      "metadata": {
        "id": "420f87a9-2f43-4900-bae1-dfaa6625dcfb"
      },
      "source": [
        "#### 5. El archivo se descargará automaticamente"
      ]
    },
    {
      "cell_type": "code",
      "execution_count": null,
      "id": "2afa970f-f731-4bb7-946b-1a5d0abccbe5",
      "metadata": {
        "id": "2afa970f-f731-4bb7-946b-1a5d0abccbe5"
      },
      "outputs": [],
      "source": []
    }
  ],
  "metadata": {
    "kernelspec": {
      "display_name": "Python 3 (ipykernel)",
      "language": "python",
      "name": "python3"
    },
    "language_info": {
      "codemirror_mode": {
        "name": "ipython",
        "version": 3
      },
      "file_extension": ".py",
      "mimetype": "text/x-python",
      "name": "python",
      "nbconvert_exporter": "python",
      "pygments_lexer": "ipython3",
      "version": "3.11.7"
    },
    "colab": {
      "provenance": [],
      "include_colab_link": true
    }
  },
  "nbformat": 4,
  "nbformat_minor": 5
}